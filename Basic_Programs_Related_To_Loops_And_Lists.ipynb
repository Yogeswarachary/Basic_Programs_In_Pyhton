{
 "cells": [
  {
   "cell_type": "markdown",
   "id": "71ecbe3b",
   "metadata": {},
   "source": [
    "Example's of For loop"
   ]
  },
  {
   "cell_type": "code",
   "execution_count": 1,
   "id": "06df1520",
   "metadata": {},
   "outputs": [
    {
     "name": "stdout",
     "output_type": "stream",
     "text": [
      "1\n",
      "2\n",
      "3\n",
      "4\n",
      "5\n",
      "6\n",
      "7\n",
      "8\n",
      "9\n",
      "10\n",
      "11\n",
      "12\n",
      "13\n",
      "14\n",
      "15\n",
      "16\n",
      "17\n",
      "18\n",
      "19\n",
      "20\n",
      "21\n",
      "22\n",
      "23\n",
      "24\n",
      "25\n"
     ]
    }
   ],
   "source": [
    "#print 1  to 25 numbers using for loop\n",
    "for i in range (1,26):\n",
    "    print(i)"
   ]
  },
  {
   "cell_type": "code",
   "execution_count": 2,
   "id": "4c2d5d13",
   "metadata": {},
   "outputs": [
    {
     "name": "stdout",
     "output_type": "stream",
     "text": [
      "0\n",
      "2\n",
      "4\n",
      "6\n",
      "8\n",
      "10\n",
      "12\n",
      "14\n",
      "16\n",
      "18\n",
      "20\n",
      "22\n",
      "24\n"
     ]
    }
   ],
   "source": [
    "#print all even numbers from 1 to 25\n",
    "for i in range(0,25,2):\n",
    "    print(i)"
   ]
  },
  {
   "cell_type": "code",
   "execution_count": 3,
   "id": "68470662",
   "metadata": {},
   "outputs": [
    {
     "name": "stdout",
     "output_type": "stream",
     "text": [
      "1\n",
      "3\n",
      "5\n",
      "7\n",
      "9\n",
      "11\n",
      "13\n",
      "15\n",
      "17\n",
      "19\n",
      "21\n",
      "23\n"
     ]
    }
   ],
   "source": [
    "#print all odd numbers from 1 to 25\n",
    "for i in range(1, 25,2):\n",
    "    print(i)"
   ]
  },
  {
   "cell_type": "code",
   "execution_count": 4,
   "id": "aae07c3d",
   "metadata": {},
   "outputs": [
    {
     "name": "stdout",
     "output_type": "stream",
     "text": [
      "enter number you want to start:---12\n",
      "enter number you want to stop:----60\n",
      "13 15 17 19 21 23 25 27 29 31 33 35 37 39 41 43 45 47 49 51 53 55 57 59 "
     ]
    }
   ],
   "source": [
    "#program for asking to enter the user specified input(to get odd numbers only)\n",
    "starting_num=int(input(\"enter number you want to start:---\"))\n",
    "ending_num=int(input('enter number you want to stop:----'))\n",
    "for num in range(starting_num,ending_num+1):\n",
    "    if num %2==1:\n",
    "        print(num, end =\" \")"
   ]
  },
  {
   "cell_type": "code",
   "execution_count": 5,
   "id": "c1969e16",
   "metadata": {},
   "outputs": [
    {
     "name": "stdout",
     "output_type": "stream",
     "text": [
      "enter number you want to start:---12\n",
      "enter number you want to stop:----60\n",
      "12 14 16 18 20 22 24 26 28 30 32 34 36 38 40 42 44 46 48 50 52 54 56 58 60 "
     ]
    }
   ],
   "source": [
    "#program for asking to enter the user specified input (to get even numbers only)\n",
    "starting_num=int(input(\"enter number you want to start:---\"))\n",
    "ending_num=int(input('enter number you want to stop:----'))\n",
    "for num in range(starting_num,ending_num+1):\n",
    "    if num %2==0:\n",
    "        print(num, end =\" \")"
   ]
  },
  {
   "cell_type": "markdown",
   "id": "cec41323",
   "metadata": {},
   "source": [
    "###### creating and Using the functions"
   ]
  },
  {
   "cell_type": "code",
   "execution_count": 6,
   "id": "0e3f4cca",
   "metadata": {},
   "outputs": [],
   "source": [
    "#compare the two numbers, and print the big number as output by using functions.\n",
    "def compare(a,b):\n",
    "    if(a>b):\n",
    "        greater=a\n",
    "    else:\n",
    "        greater=b\n",
    "    \n",
    "    return greater"
   ]
  },
  {
   "cell_type": "code",
   "execution_count": 7,
   "id": "7c3b3b0c",
   "metadata": {},
   "outputs": [
    {
     "data": {
      "text/plain": [
       "40"
      ]
     },
     "execution_count": 7,
     "metadata": {},
     "output_type": "execute_result"
    }
   ],
   "source": [
    "compare(30,40)"
   ]
  },
  {
   "cell_type": "code",
   "execution_count": 8,
   "id": "f08908d9",
   "metadata": {},
   "outputs": [],
   "source": [
    "def odd(a):\n",
    "    if a%2==0:\n",
    "        a=\"not odd\"\n",
    "    else:\n",
    "        a='odd'\n",
    "    return a"
   ]
  },
  {
   "cell_type": "code",
   "execution_count": 9,
   "id": "438a6d43",
   "metadata": {},
   "outputs": [
    {
     "data": {
      "text/plain": [
       "'odd'"
      ]
     },
     "execution_count": 9,
     "metadata": {},
     "output_type": "execute_result"
    }
   ],
   "source": [
    "odd(11)"
   ]
  },
  {
   "cell_type": "markdown",
   "id": "435ae2bd",
   "metadata": {},
   "source": [
    "###### About lists operations"
   ]
  },
  {
   "cell_type": "code",
   "execution_count": 10,
   "id": "56fe7475",
   "metadata": {},
   "outputs": [
    {
     "name": "stdout",
     "output_type": "stream",
     "text": [
      "['509', '08', '40', 'yogesh', '2nd class', 'ac coach']\n"
     ]
    }
   ],
   "source": [
    "#what is the list\n",
    "list1=['509','08','40','yogesh','2nd class','ac coach']\n",
    "print(list1)\n",
    "#list's can store different types of data"
   ]
  },
  {
   "cell_type": "code",
   "execution_count": 11,
   "id": "efb376ee",
   "metadata": {},
   "outputs": [
    {
     "name": "stdout",
     "output_type": "stream",
     "text": [
      "jupiter_notebook\n",
      "['anaconda', 'pycharm', 509]\n",
      "60\n"
     ]
    }
   ],
   "source": [
    "#sub-setting lists:- lists can be accessed by with help of index numbers. list index's are strating from zero\n",
    "list2=['anaconda','jupiter_notebook','pycharm',3.8,509,60]\n",
    "print(list2[1])\n",
    "print(list2[0:5:2])\n",
    "print(list2[-1])"
   ]
  },
  {
   "cell_type": "markdown",
   "id": "28229c87",
   "metadata": {},
   "source": [
    "list's can be accessed in two ways positive_indexing([0:5:2]) and negitive_indexing also([-1]). the [-1] displays last value in the list.\n",
    "in above [0:5:2] means index starts with '0' and it will gives result upto 5 index's,but not includes 5(it means it displays index values 0,1,2,3,4,) \n",
    "(continues above line)and '2' indicates, it can skip two index's"
   ]
  },
  {
   "cell_type": "code",
   "execution_count": 12,
   "id": "59ec3a22",
   "metadata": {},
   "outputs": [
    {
     "name": "stdout",
     "output_type": "stream",
     "text": [
      "['anaconda', 'jupiter_notebook', 'pycharm', 3.8, 509, 60, 'Jai_modula_machine']\n"
     ]
    },
    {
     "data": {
      "text/plain": [
       "['anaconda',\n",
       " 'jupiter_notebook',\n",
       " 3.8,\n",
       " 509,\n",
       " 60,\n",
       " 'Jai_modula_machine',\n",
       " ['drill_machine',\n",
       "  'cutting_machine',\n",
       "  'screw_machine',\n",
       "  'hammer_machine',\n",
       "  'router_machine']]"
      ]
     },
     "execution_count": 12,
     "metadata": {},
     "output_type": "execute_result"
    }
   ],
   "source": [
    "#Adding elements to the existing lists.\n",
    "#Adding elements to the existing list is done by using Append()\n",
    "list2.append('Jai_modula_machine')\n",
    "print(list2) #prints list \n",
    "#deleting one element from the list\n",
    "list2.remove('pycharm')\n",
    "list2 #it is used insted of print\n",
    "#Adding multiple elements or adding another list to current list\n",
    "list2.extend(['it'])\n",
    "list2 #it is used insted of print\n",
    "list2.append(['drill_machine','cutting_machine','screw_machine','hammer_machine','router_machine'])\n",
    "list2 #it is used insted of print\n",
    "del list2[6] #delete's element at 6th index\n",
    "list2 #it is used insted of print"
   ]
  },
  {
   "cell_type": "markdown",
   "id": "409cd15a",
   "metadata": {},
   "source": [
    "###### Looping with lists"
   ]
  },
  {
   "cell_type": "code",
   "execution_count": 13,
   "id": "939fd9ba",
   "metadata": {},
   "outputs": [
    {
     "name": "stdout",
     "output_type": "stream",
     "text": [
      "anaconda\n",
      "jupiter_notebook\n",
      "3.8\n",
      "509\n",
      "60\n",
      "Jai_modula_machine\n",
      "['drill_machine', 'cutting_machine', 'screw_machine', 'hammer_machine', 'router_machine']\n"
     ]
    }
   ],
   "source": [
    "for i in list2: #in the loop 'list2' indicates the list name and it is act as the 'range' object\n",
    "    print(i)"
   ]
  },
  {
   "cell_type": "markdown",
   "id": "c70049b8",
   "metadata": {},
   "source": [
    "##### looping with lists example 2"
   ]
  },
  {
   "cell_type": "code",
   "execution_count": 14,
   "id": "af1f4f50",
   "metadata": {},
   "outputs": [
    {
     "name": "stdout",
     "output_type": "stream",
     "text": [
      "1\n",
      "2\n",
      "3\n",
      "4\n",
      "5\n",
      "6\n",
      "7\n",
      "8\n",
      "9\n",
      "10\n",
      "2\n",
      "3\n",
      "4\n",
      "5\n",
      "6\n",
      "7\n",
      "8\n",
      "9\n",
      "10\n",
      "11\n"
     ]
    }
   ],
   "source": [
    "lst=[1,2,3,4,5,6,7,8,9,10]\n",
    "for i in lst: #print all values in the list\n",
    "    print(i)\n",
    "for lst1 in lst:\n",
    "    print(lst1+1) #it will perform all the arthimatic operations like addition(list_name+num),substraction(list_name-num),\n",
    "    #multiplicatio(list_name*num),and division(list_name%num) operations"
   ]
  },
  {
   "cell_type": "markdown",
   "id": "a33d1873",
   "metadata": {},
   "source": [
    "###### About dictionary's \n",
    "Dictionaries can have two elements 'key:value'. every element in the list can be accessed with help key value only\n",
    "\n",
    "Year wise marks of btech students(total 4 year's mark) are represented in dictinary respectively."
   ]
  },
  {
   "cell_type": "code",
   "execution_count": 15,
   "id": "6f0048b6",
   "metadata": {},
   "outputs": [
    {
     "data": {
      "text/plain": [
       "[700, 830, 600, 740]"
      ]
     },
     "execution_count": 15,
     "metadata": {},
     "output_type": "execute_result"
    }
   ],
   "source": [
    "marks={'venkat':[700,830,600,740],'karun':[610,589,430,614],'vinay':[478,577,596,657],'sowmya':[500,632,497,706]}\n",
    "#print(marks)\n",
    "marks['venkat']# based on the key value, we can access the data from the directory "
   ]
  },
  {
   "cell_type": "code",
   "execution_count": 16,
   "id": "1f6cb813",
   "metadata": {},
   "outputs": [
    {
     "data": {
      "text/plain": [
       "[700, 830, 600, 740]"
      ]
     },
     "execution_count": 16,
     "metadata": {},
     "output_type": "execute_result"
    }
   ],
   "source": [
    "marks['venkat']# based on the key value, we can access the data from the directory "
   ]
  },
  {
   "cell_type": "code",
   "execution_count": 17,
   "id": "19eef736",
   "metadata": {},
   "outputs": [
    {
     "data": {
      "text/plain": [
       "{'venkat': [700, 830, 600, 740],\n",
       " 'karun': [610, 589, 430, 614],\n",
       " 'vinay': [478, 577, 596, 657],\n",
       " 'sowmya': [500, 632, 497, 706],\n",
       " 'mani': [389, 205, 177, 450]}"
      ]
     },
     "execution_count": 17,
     "metadata": {},
     "output_type": "execute_result"
    }
   ],
   "source": [
    "marks['mani']=[389,205,177,450] #this statement will add the single value(in the example it is list) to the dictionary with the help of key value\n",
    "marks"
   ]
  },
  {
   "cell_type": "code",
   "execution_count": 18,
   "id": "2f5e3142",
   "metadata": {},
   "outputs": [
    {
     "data": {
      "text/plain": [
       "{'venkat': [700, 830, 600, 740],\n",
       " 'karun': [610, 589, 430, 614],\n",
       " 'vinay': [478, 577, 596, 657],\n",
       " 'sowmya': [500, 632, 497, 706],\n",
       " 'mani': [389, 205, 177, 450],\n",
       " 'yashwanth': [350, 288, 109, 245],\n",
       " 'prasanna_kumar': [90, 120, 150, 60],\n",
       " 'mohith': [200, 322, 391, 188]}"
      ]
     },
     "execution_count": 18,
     "metadata": {},
     "output_type": "execute_result"
    }
   ],
   "source": [
    "#Adding multiple values/data at a time\n",
    "marks.update({'yashwanth':[350,288,109,245],'prasanna_kumar':[90,120,150,60],'mohith':[200,322,391,188]})\n",
    "marks"
   ]
  },
  {
   "cell_type": "code",
   "execution_count": 19,
   "id": "4852cbb3",
   "metadata": {},
   "outputs": [
    {
     "data": {
      "text/plain": [
       "{'venkat': [700, 830, 600, 740],\n",
       " 'karun': [610, 589, 430, 614],\n",
       " 'vinay': [478, 577, 596, 657],\n",
       " 'sowmya': [500, 632, 497, 706],\n",
       " 'mani': [389, 205, 177, 450],\n",
       " 'yashwanth': [350, 288, 109, 245],\n",
       " 'prasanna_kumar': [90, 120, 150, 60],\n",
       " 'mohith': [200, 322, 391, 188]}"
      ]
     },
     "execution_count": 19,
     "metadata": {},
     "output_type": "execute_result"
    }
   ],
   "source": [
    "#adding single data to the dictionary\n",
    "marks['prasanna_kumar']=[90,120,150,60]\n",
    "marks"
   ]
  },
  {
   "cell_type": "code",
   "execution_count": 20,
   "id": "752e5726",
   "metadata": {},
   "outputs": [
    {
     "data": {
      "text/plain": [
       "{'venkat': [700, 830, 600, 740],\n",
       " 'karun': [610, 589, 430, 614],\n",
       " 'vinay': [478, 577, 596, 657],\n",
       " 'sowmya': [500, 632, 497, 706],\n",
       " 'mani': [389, 205, 177, 450],\n",
       " 'yashwanth': [350, 288, 109, 245],\n",
       " 'mohith': [200, 322, 391, 188]}"
      ]
     },
     "execution_count": 20,
     "metadata": {},
     "output_type": "execute_result"
    }
   ],
   "source": [
    "#deleting one data from dictionary\n",
    "del marks['prasanna_kumar']\n",
    "marks"
   ]
  },
  {
   "cell_type": "code",
   "execution_count": 21,
   "id": "81773ece",
   "metadata": {},
   "outputs": [
    {
     "name": "stdout",
     "output_type": "stream",
     "text": [
      "[2, 4, 6, 8, 10]\n"
     ]
    },
    {
     "data": {
      "text/plain": [
       "6"
      ]
     },
     "execution_count": 21,
     "metadata": {},
     "output_type": "execute_result"
    }
   ],
   "source": [
    "# creating a list consisting of first 5 even numbers and print the list\n",
    "my_list = [2,4,6,8,10]\n",
    "print(my_list)\n",
    "my_list[2]"
   ]
  },
  {
   "cell_type": "code",
   "execution_count": 22,
   "id": "40d6d292",
   "metadata": {},
   "outputs": [
    {
     "name": "stdout",
     "output_type": "stream",
     "text": [
      "{'Name': 'Smith', 'Age': 34, 'Gender': 'Male', 'Is_employed': False}\n"
     ]
    },
    {
     "data": {
      "text/plain": [
       "'Smith'"
      ]
     },
     "execution_count": 22,
     "metadata": {},
     "output_type": "execute_result"
    }
   ],
   "source": [
    "# given below is a dictionary having 4 unique keys, i.e., 'name', 'age', 'gender', 'is_employed'\n",
    "my_dict = {'Name':'Smith',\n",
    "           'Age':34,\n",
    "           'Gender': 'Male',\n",
    "           'Is_employed': False}\n",
    "\n",
    "# print 'my_dict'\n",
    "print(my_dict)\n",
    "my_dict['Name']"
   ]
  },
  {
   "cell_type": "code",
   "execution_count": 23,
   "id": "6f7804ab",
   "metadata": {},
   "outputs": [
    {
     "name": "stdout",
     "output_type": "stream",
     "text": [
      "{'Name': 'Smith', 'Age': 34, 'Gender': 'Male', 'Is_employed': False, 'is_employed': True}\n"
     ]
    }
   ],
   "source": [
    "# update 'is_employed' key to True\n",
    "my_dict.update({'is_employed': True})\n",
    "\n",
    "# print the updated dictionary\n",
    "print(my_dict)"
   ]
  },
  {
   "cell_type": "code",
   "execution_count": 24,
   "id": "9ce83157",
   "metadata": {},
   "outputs": [],
   "source": [
    "# import required libraries\n",
    "import pandas as pd\n",
    "import numpy as np"
   ]
  },
  {
   "cell_type": "code",
   "execution_count": 25,
   "id": "29bda3f4",
   "metadata": {},
   "outputs": [],
   "source": [
    "#read the .csv file using pandas\n",
    "mydata = pd.read_csv(r\"C:\\Users\\myoge\\data1.csv\")"
   ]
  },
  {
   "cell_type": "code",
   "execution_count": 26,
   "id": "dca57b82",
   "metadata": {},
   "outputs": [
    {
     "data": {
      "text/plain": [
       "(9, 10)"
      ]
     },
     "execution_count": 26,
     "metadata": {},
     "output_type": "execute_result"
    }
   ],
   "source": [
    "#print the number of rows and number of columns of mydata\n",
    "mydata.shape"
   ]
  },
  {
   "cell_type": "code",
   "execution_count": 27,
   "id": "6b0e9614",
   "metadata": {},
   "outputs": [],
   "source": [
    "#assign a variable 'target' with the 'Loan_Status' feature from mydata dataframe\n",
    "target = mydata['Nunavut']"
   ]
  },
  {
   "cell_type": "code",
   "execution_count": 28,
   "id": "dadc8b17",
   "metadata": {},
   "outputs": [
    {
     "name": "stdout",
     "output_type": "stream",
     "text": [
      "object\n"
     ]
    }
   ],
   "source": [
    "#print the datatype of ApplicantIncome feature\n",
    "print(mydata['Nunavut'].dtypes)"
   ]
  },
  {
   "cell_type": "code",
   "execution_count": 29,
   "id": "586ca372",
   "metadata": {},
   "outputs": [
    {
     "data": {
      "text/html": [
       "<div>\n",
       "<style scoped>\n",
       "    .dataframe tbody tr th:only-of-type {\n",
       "        vertical-align: middle;\n",
       "    }\n",
       "\n",
       "    .dataframe tbody tr th {\n",
       "        vertical-align: top;\n",
       "    }\n",
       "\n",
       "    .dataframe thead th {\n",
       "        text-align: right;\n",
       "    }\n",
       "</style>\n",
       "<table border=\"1\" class=\"dataframe\">\n",
       "  <thead>\n",
       "    <tr style=\"text-align: right;\">\n",
       "      <th></th>\n",
       "      <th>1</th>\n",
       "      <th>Eldon Base for stackable storage shelf, platinum</th>\n",
       "      <th>Muhammed MacIntyre</th>\n",
       "      <th>3</th>\n",
       "      <th>-213.25</th>\n",
       "      <th>38.94</th>\n",
       "      <th>35</th>\n",
       "      <th>Nunavut</th>\n",
       "      <th>Storage &amp; Organization</th>\n",
       "      <th>0.8</th>\n",
       "    </tr>\n",
       "  </thead>\n",
       "  <tbody>\n",
       "    <tr>\n",
       "      <th>4</th>\n",
       "      <td>6</td>\n",
       "      <td>G.E. Longer-Life Indoor Recessed Floodlight Bulbs</td>\n",
       "      <td>Carlos Soltero</td>\n",
       "      <td>515</td>\n",
       "      <td>4.43</td>\n",
       "      <td>6.64</td>\n",
       "      <td>4.95</td>\n",
       "      <td>Nunavut</td>\n",
       "      <td>Office Furnishings</td>\n",
       "      <td>0.37</td>\n",
       "    </tr>\n",
       "    <tr>\n",
       "      <th>5</th>\n",
       "      <td>7</td>\n",
       "      <td>Angle-D Binders with Locking Rings, Label Holders</td>\n",
       "      <td>Carl Jackson</td>\n",
       "      <td>613</td>\n",
       "      <td>-54.04</td>\n",
       "      <td>7.30</td>\n",
       "      <td>7.72</td>\n",
       "      <td>Nunavut</td>\n",
       "      <td>Binders and Binder Accessories</td>\n",
       "      <td>0.38</td>\n",
       "    </tr>\n",
       "    <tr>\n",
       "      <th>6</th>\n",
       "      <td>8</td>\n",
       "      <td>SAFCO Mobile Desk Side File, Wire Frame</td>\n",
       "      <td>Carl Jackson</td>\n",
       "      <td>613</td>\n",
       "      <td>127.70</td>\n",
       "      <td>42.76</td>\n",
       "      <td>6.22</td>\n",
       "      <td>Nunavut</td>\n",
       "      <td>Storage &amp; Organization</td>\n",
       "      <td>NaN</td>\n",
       "    </tr>\n",
       "    <tr>\n",
       "      <th>7</th>\n",
       "      <td>9</td>\n",
       "      <td>SAFCO Commercial Wire Shelving, Black</td>\n",
       "      <td>Monica Federle</td>\n",
       "      <td>643</td>\n",
       "      <td>-695.26</td>\n",
       "      <td>138.14</td>\n",
       "      <td>35.00</td>\n",
       "      <td>Nunavut</td>\n",
       "      <td>Storage &amp; Organization</td>\n",
       "      <td>NaN</td>\n",
       "    </tr>\n",
       "  </tbody>\n",
       "</table>\n",
       "</div>"
      ],
      "text/plain": [
       "   1   Eldon Base for stackable storage shelf, platinum Muhammed MacIntyre  \\\n",
       "4  6  G.E. Longer-Life Indoor Recessed Floodlight Bulbs     Carlos Soltero   \n",
       "5  7  Angle-D Binders with Locking Rings, Label Holders       Carl Jackson   \n",
       "6  8            SAFCO Mobile Desk Side File, Wire Frame       Carl Jackson   \n",
       "7  9              SAFCO Commercial Wire Shelving, Black     Monica Federle   \n",
       "\n",
       "     3  -213.25   38.94     35  Nunavut          Storage & Organization   0.8  \n",
       "4  515     4.43    6.64   4.95  Nunavut              Office Furnishings  0.37  \n",
       "5  613   -54.04    7.30   7.72  Nunavut  Binders and Binder Accessories  0.38  \n",
       "6  613   127.70   42.76   6.22  Nunavut          Storage & Organization   NaN  \n",
       "7  643  -695.26  138.14  35.00  Nunavut          Storage & Organization   NaN  "
      ]
     },
     "execution_count": 29,
     "metadata": {},
     "output_type": "execute_result"
    }
   ],
   "source": [
    "#print 4th to 8th rows of mydata\n",
    "mydata.iloc[4:8]"
   ]
  },
  {
   "cell_type": "code",
   "execution_count": null,
   "id": "af43499b",
   "metadata": {},
   "outputs": [],
   "source": []
  }
 ],
 "metadata": {
  "kernelspec": {
   "display_name": "Python 3",
   "language": "python",
   "name": "python3"
  },
  "language_info": {
   "codemirror_mode": {
    "name": "ipython",
    "version": 3
   },
   "file_extension": ".py",
   "mimetype": "text/x-python",
   "name": "python",
   "nbconvert_exporter": "python",
   "pygments_lexer": "ipython3",
   "version": "3.8.8"
  }
 },
 "nbformat": 4,
 "nbformat_minor": 5
}
